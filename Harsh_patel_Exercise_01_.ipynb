{
  "cells": [
    {
      "cell_type": "markdown",
      "metadata": {
        "id": "view-in-github",
        "colab_type": "text"
      },
      "source": [
        "<a href=\"https://colab.research.google.com/github/Harsh0487/Harsh_INFO5731_fall2024/blob/main/Harsh_patel_Exercise_01_.ipynb\" target=\"_parent\"><img src=\"https://colab.research.google.com/assets/colab-badge.svg\" alt=\"Open In Colab\"/></a>"
      ]
    },
    {
      "cell_type": "markdown",
      "metadata": {
        "id": "DymRJbxDBCnf"
      },
      "source": [
        "# **INFO5731 Exercise 1**\n",
        "\n",
        "This exercise covers a variety of fundamental concepts in Python and is designed to help students improve their coding skills and problem-solving abilities.\n",
        "\n",
        "**Expectations**:\n",
        "*   Students are expected to complete the exercise during lecture period to meet the active participation criteria of the course.\n",
        "*   Use the provided .*ipynb* document to write your code & respond to the questions. Avoid generating a new file.\n",
        "*   Write complete answers and run all the cells before submission.\n",
        "*   Make sure the submission is \"clean\"; *i.e.*, no unnecessary code cells.\n",
        "*   Once finished, allow shared rights from top right corner (*see Canvas for details*).\n",
        "\n",
        "**Total points**: 40\n",
        "\n",
        "**Deadline**: This in-class exercise is due at the end of the day tomorrow, at 11:59 PM.\n",
        "\n",
        "**Late submissions cannot be considered, and no requests will be answered. Manage your time accordingly.**\n"
      ]
    },
    {
      "cell_type": "markdown",
      "source": [
        "## Question 1\n",
        "Write a Python program that  prompts the user to input the length and width of a rectangle, and then calculates and displays the area of the rectangle."
      ],
      "metadata": {
        "id": "FBKvD6O_TY6e"
      }
    },
    {
      "cell_type": "code",
      "source": [
        "length = float(input(\"Enter the length of the rectangle: \"))\n",
        "width = float(input(\"Enter the width of the rectangle: \"))\n",
        "area = length * width\n",
        "print(f\"The area of the rectangle is: {area:.2f} square units\")\n"
      ],
      "metadata": {
        "id": "cikVKDXdTbzE",
        "colab": {
          "base_uri": "https://localhost:8080/"
        },
        "outputId": "e4607b6b-7dd7-44ba-b1bd-0bf98c53ff86"
      },
      "execution_count": 1,
      "outputs": [
        {
          "output_type": "stream",
          "name": "stdout",
          "text": [
            "Enter the length of the rectangle: 4\n",
            "Enter the width of the rectangle: 5\n",
            "The area of the rectangle is: 20.00 square units\n"
          ]
        }
      ]
    },
    {
      "cell_type": "markdown",
      "source": [
        "## Question 2\n",
        "Create a Python program that interactively takes two numerical inputs from the user and swaps their values without utilizing an extra variable."
      ],
      "metadata": {
        "id": "E9RqrlwdTfvl"
      }
    },
    {
      "cell_type": "code",
      "source": [
        "\n",
        "num1 = float(input(\"Enter the first number: \"))\n",
        "num2 = float(input(\"Enter the second number: \"))\n",
        "\n",
        "# Swap the numbers without using an extra variable\n",
        "num1, num2 = num2, num1\n",
        "\n",
        "# Display the swapped numbers\n",
        "print(f\"After swapping, the first number is: {num1:.2f}\")\n",
        "print(f\"After swapping, the second number is: {num2:.2f}\")"
      ],
      "metadata": {
        "id": "4XvRknixTh1g",
        "colab": {
          "base_uri": "https://localhost:8080/"
        },
        "outputId": "10b69662-59bc-4e07-fe5f-acbfb41b44e3"
      },
      "execution_count": 2,
      "outputs": [
        {
          "output_type": "stream",
          "name": "stdout",
          "text": [
            "Enter the first number: 25\n",
            "Enter the second number: 23\n",
            "After swapping, the first number is: 23.00\n",
            "After swapping, the second number is: 25.00\n"
          ]
        }
      ]
    },
    {
      "cell_type": "markdown",
      "metadata": {
        "id": "03jb4GZsBkBS"
      },
      "source": [
        "## Question 3\n",
        "Write a Python script to determine and print the length of a user-input string."
      ]
    },
    {
      "cell_type": "code",
      "execution_count": 3,
      "metadata": {
        "id": "YaGLbSHHB8Ej",
        "colab": {
          "base_uri": "https://localhost:8080/"
        },
        "outputId": "ee3c8f56-2a8c-4ff7-aaf6-e29a3694d456"
      },
      "outputs": [
        {
          "output_type": "stream",
          "name": "stdout",
          "text": [
            "Enter a string: hello user\n",
            "The length of the string is: 10\n"
          ]
        }
      ],
      "source": [
        "\n",
        "user_string = input(\"Enter a string: \")\n",
        "string_length = len(user_string)\n",
        "print(f\"The length of the string is: {string_length}\")\n"
      ]
    },
    {
      "cell_type": "markdown",
      "metadata": {
        "id": "jJDe71iLB616"
      },
      "source": [
        "## Question 4\n",
        "Construct a Python program that counts and displays the occurrences of each character in a given string.\n",
        "\n",
        "Sample String: 'openai.ai',\n",
        "\n",
        "Expected Result: {'a': 2, 'i': 2, '.': 1, 'o': 1, 'p': 1, 'e': 1, 'n': 1}"
      ]
    },
    {
      "cell_type": "code",
      "execution_count": 4,
      "metadata": {
        "id": "MtKskTzbCLaU",
        "colab": {
          "base_uri": "https://localhost:8080/"
        },
        "outputId": "70f53fde-0ef0-4667-acda-ddda873bab83"
      },
      "outputs": [
        {
          "output_type": "stream",
          "name": "stdout",
          "text": [
            "Enter a string: openai.in\n",
            "Character Frequencies:\n",
            "o: 1\n",
            "p: 1\n",
            "e: 1\n",
            "n: 2\n",
            "a: 1\n",
            "i: 2\n",
            ".: 1\n"
          ]
        }
      ],
      "source": [
        "input_string = input(\"Enter a string: \")\n",
        "char_frequency = {}\n",
        "for char in input_string:\n",
        "\n",
        "    if char in char_frequency:\n",
        "        char_frequency[char] += 1\n",
        "\n",
        "    else:\n",
        "        char_frequency[char] = 1\n",
        "print(\"Character Frequencies:\")\n",
        "for char, frequency in char_frequency.items():\n",
        "    print(f\"{char}: {frequency}\")\n"
      ]
    },
    {
      "cell_type": "markdown",
      "metadata": {
        "id": "55W9AMdXCSpV"
      },
      "source": [
        "## Question 5\n",
        "Design a Python code to calculate the sum of all elements in a user-provided list."
      ]
    },
    {
      "cell_type": "code",
      "execution_count": 5,
      "metadata": {
        "id": "I57NXsauCec2",
        "colab": {
          "base_uri": "https://localhost:8080/"
        },
        "outputId": "448d3bdb-ef82-41ce-d1c7-72dadac67d3f"
      },
      "outputs": [
        {
          "output_type": "stream",
          "name": "stdout",
          "text": [
            "Enter a list of numbers (separated by spaces): 25 252 24\n",
            "Sum of list elements: 301\n"
          ]
        }
      ],
      "source": [
        "input_list = input(\"Enter a list of numbers (separated by spaces): \")\n",
        "try:\n",
        "    num_list = [int(num) for num in input_list.split()]\n",
        "except ValueError:\n",
        "    print(\"Invalid input. Please enter a list of numbers separated by spaces.\")\n",
        "    exit()\n",
        "sum_of_elements = sum(num_list)\n",
        "print(\"Sum of list elements:\", sum_of_elements)\n"
      ]
    },
    {
      "cell_type": "markdown",
      "metadata": {
        "id": "4ulBZ6yhCi9F"
      },
      "source": [
        "## Question 6\n",
        "Write a Python program that modifies a given string by replacing all occurrences of its first character with '$', excluding the first character itself.\n",
        "\n",
        "\n",
        "Sample String : 'restart‘\n",
        "Expected Result : 'resta\\$t'"
      ]
    },
    {
      "cell_type": "code",
      "execution_count": 6,
      "metadata": {
        "id": "Fj0XhwbBCw2o",
        "colab": {
          "base_uri": "https://localhost:8080/"
        },
        "outputId": "7ca22c0d-0978-4fcc-e318-364ca9d587cf"
      },
      "outputs": [
        {
          "output_type": "stream",
          "name": "stdout",
          "text": [
            "Enter a string: restart\n",
            "Modified String: resta$t\n"
          ]
        }
      ],
      "source": [
        "input_string = input(\"Enter a string: \")\n",
        "if len(input_string) > 0:\n",
        "    first_char = input_string[0]\n",
        "    modified_string = first_char + input_string[1:].replace(first_char, '$')\n",
        "    print(\"Modified String:\", modified_string)\n",
        "else:\n",
        "    print(\"Please enter a non-empty string.\")\n"
      ]
    },
    {
      "cell_type": "markdown",
      "source": [
        "## Question 7\n",
        "Write a Python program using a while loop to compute the factorial of a user-supplied number."
      ],
      "metadata": {
        "id": "qVXA3q7ET5JI"
      }
    },
    {
      "cell_type": "code",
      "source": [
        "num = input(\"Enter a number: \")\n",
        "try:\n",
        "    num = int(num)\n",
        "    if num < 0:\n",
        "        print(\"Please enter a positive integer.\")\n",
        "        exit()\n",
        "except ValueError:\n",
        "    print(\"Invalid input. Please enter a positive integer.\")\n",
        "    exit()\n",
        "factorial = 1\n",
        "counter = 1\n",
        "while counter <= num:\n",
        "    factorial *= counter\n",
        "    counter += 1\n",
        "print(\"Factorial of\", num, \":\", factorial)"
      ],
      "metadata": {
        "id": "Lbt7R6UkT7BA",
        "colab": {
          "base_uri": "https://localhost:8080/"
        },
        "outputId": "4fe868fa-283b-45e8-969d-4c53a35dc08a"
      },
      "execution_count": 7,
      "outputs": [
        {
          "output_type": "stream",
          "name": "stdout",
          "text": [
            "Enter a number: 6\n",
            "Factorial of 6 : 720\n"
          ]
        }
      ]
    },
    {
      "cell_type": "markdown",
      "source": [
        "## Question 8\n",
        "Create a program that accepts a list of numbers as input and outputs a new list containing only the even numbers."
      ],
      "metadata": {
        "id": "6YfbzXMNT--R"
      }
    },
    {
      "cell_type": "code",
      "source": [
        "input_list = input(\"Enter a list of numbers (space-separated): \")\n",
        "try:\n",
        "    num_list = [int(num) for num in input_list.split()]\n",
        "except ValueError:\n",
        "    print(\"Invalid input. Please enter a list of numbers separated by spaces.\")\n",
        "    exit()\n",
        "even_numbers = [num for num in num_list if num % 2 == 0]\n",
        "print(\"Even numbers:\", even_numbers)"
      ],
      "metadata": {
        "id": "54q7wMQPUAKu",
        "colab": {
          "base_uri": "https://localhost:8080/"
        },
        "outputId": "6270ad36-1221-458a-bdae-c4166f5af190"
      },
      "execution_count": 9,
      "outputs": [
        {
          "output_type": "stream",
          "name": "stdout",
          "text": [
            "Enter a list of numbers (space-separated): 1 2 3 4 5 6 7\n",
            "Even numbers: [2, 4, 6]\n"
          ]
        }
      ]
    },
    {
      "cell_type": "markdown",
      "metadata": {
        "id": "_bIP7s1MCzue"
      },
      "source": [
        "## Question 9\n",
        "Design a Python function to check if a number is prime.\n"
      ]
    },
    {
      "cell_type": "code",
      "execution_count": 10,
      "metadata": {
        "id": "w79QilHXD3Mg",
        "colab": {
          "base_uri": "https://localhost:8080/"
        },
        "outputId": "4d786670-ed71-4051-fa17-004217e1640a"
      },
      "outputs": [
        {
          "output_type": "stream",
          "name": "stdout",
          "text": [
            "False\n",
            "True\n"
          ]
        }
      ],
      "source": [
        "def is_prime(n):\n",
        "    if n <= 1:\n",
        "        return False\n",
        "    for i in range(2, int(n ** 0.5) + 1):\n",
        "        if n % i == 0:\n",
        "            return False\n",
        "    return True\n",
        "print(is_prime(25))\n",
        "print(is_prime(23))\n"
      ]
    },
    {
      "cell_type": "markdown",
      "metadata": {
        "id": "xCa2bK9aD4Q3"
      },
      "source": [
        "## Question 10\n",
        "Write a Python program to concatenate following dictionaries to create a new one.\n",
        "\n",
        "Sample Dictionary : dic1={1:10, 2:20}, dic2={3:30, 4:40}, dic3={5:50,6:60},\n",
        "\n",
        "Expected Result : {1: 10, 2: 20, 3: 30, 4: 40, 5: 50, 6: 60}\n"
      ]
    },
    {
      "cell_type": "code",
      "execution_count": 11,
      "metadata": {
        "id": "_z4aLqAbEET1",
        "colab": {
          "base_uri": "https://localhost:8080/"
        },
        "outputId": "508b4652-854d-4cd2-8dc7-4d806cf77915"
      },
      "outputs": [
        {
          "output_type": "stream",
          "name": "stdout",
          "text": [
            "{1: 10, 2: 20, 3: 30, 4: 40, 5: 50, 6: 60}\n"
          ]
        }
      ],
      "source": [
        "dic1 = {1: 10, 2: 20}\n",
        "dic2 = {3: 30, 4: 40}\n",
        "dic3 = {5: 50, 6: 60}\n",
        "result = {}\n",
        "result.update(dic1)\n",
        "result.update(dic2)\n",
        "result.update(dic3)\n",
        "result = {**dic1, **dic2, **dic3}\n",
        "print(result)\n"
      ]
    },
    {
      "cell_type": "markdown",
      "source": [
        "## Question 11\n",
        "Design a Python function that takes a tuple of integers as input and returns the largest and smallest elements."
      ],
      "metadata": {
        "id": "bkyZ2xSZUOst"
      }
    },
    {
      "cell_type": "code",
      "source": [
        "def find_extremes(numbers):\n",
        "    return max(numbers), min(numbers)\n",
        "numbers = (10, 20, 30, 40, 50)\n",
        "largest, smallest = find_extremes(numbers)\n",
        "print(f\"Largest: {largest}, Smallest: {smallest}\")"
      ],
      "metadata": {
        "id": "3FdLRBKOUQEd",
        "colab": {
          "base_uri": "https://localhost:8080/"
        },
        "outputId": "1734c312-a618-49de-cf82-2cb7070c7c15"
      },
      "execution_count": 12,
      "outputs": [
        {
          "output_type": "stream",
          "name": "stdout",
          "text": [
            "Largest: 50, Smallest: 10\n"
          ]
        }
      ]
    },
    {
      "cell_type": "markdown",
      "source": [
        "## Question 12\n",
        "Write a Python program that counts the frequency of each character in a given string and stores it in a dictionary."
      ],
      "metadata": {
        "id": "O0TVi3gKUTpp"
      }
    },
    {
      "cell_type": "code",
      "source": [
        "def count_character_frequency(input_string):\n",
        "    frequency_dict = {}\n",
        "    for char in input_string:\n",
        "        if char in frequency_dict:\n",
        "            frequency_dict[char] += 1\n",
        "        else:\n",
        "            frequency_dict[char] = 1\n",
        "    return frequency_dict\n",
        "input_string = \"Hello, World!\"\n",
        "frequency_dict = count_character_frequency(input_string)\n",
        "print(frequency_dict)"
      ],
      "metadata": {
        "id": "lAtfSfZXUU-h",
        "colab": {
          "base_uri": "https://localhost:8080/"
        },
        "outputId": "ce7ef854-2bd7-466f-d88b-849e6d3c4af5"
      },
      "execution_count": 13,
      "outputs": [
        {
          "output_type": "stream",
          "name": "stdout",
          "text": [
            "{'H': 1, 'e': 1, 'l': 3, 'o': 2, ',': 1, ' ': 1, 'W': 1, 'r': 1, 'd': 1, '!': 1}\n"
          ]
        }
      ]
    },
    {
      "cell_type": "markdown",
      "metadata": {
        "id": "0v48Vqa7FrQh"
      },
      "source": [
        "## Question 13\n",
        "Implement a Python script to identify duplicate elements in a provided array of integers. Return -1 if there are no duplicates."
      ]
    },
    {
      "cell_type": "code",
      "execution_count": 14,
      "metadata": {
        "id": "7WEmgq-DF2P1",
        "colab": {
          "base_uri": "https://localhost:8080/"
        },
        "outputId": "e332ded4-f4c0-4142-ac99-a573ba1379f3"
      },
      "outputs": [
        {
          "output_type": "stream",
          "name": "stdout",
          "text": [
            "[2, 3]\n",
            "-1\n"
          ]
        }
      ],
      "source": [
        "from collections import Counter\n",
        "\n",
        "def find_duplicates(arr):\n",
        "    counter = Counter(arr)\n",
        "    duplicates = [num for num, freq in counter.items() if freq > 1]\n",
        "    if duplicates:\n",
        "        return duplicates\n",
        "    else:\n",
        "        return -1\n",
        "\n",
        "\n",
        "arr = [1, 2, 3, 4, 5, 2, 3, 6]\n",
        "print(find_duplicates(arr))\n",
        "\n",
        "arr = [1, 2, 3, 4, 5, 6]\n",
        "print(find_duplicates(arr))\n"
      ]
    },
    {
      "cell_type": "markdown",
      "metadata": {
        "id": "vD5PYLMuGga_"
      },
      "source": [
        "## Question 14\n",
        "Write a Python script to find the common elements between two lists."
      ]
    },
    {
      "cell_type": "code",
      "execution_count": 15,
      "metadata": {
        "id": "t0D5kdJUGjjw",
        "colab": {
          "base_uri": "https://localhost:8080/"
        },
        "outputId": "d589451c-99fd-4088-f94e-cd19e1c239c0"
      },
      "outputs": [
        {
          "output_type": "stream",
          "name": "stdout",
          "text": [
            "[4, 5]\n",
            "[]\n"
          ]
        }
      ],
      "source": [
        "def find_common_elements(list1, list2):\n",
        "    return [element for element in list1 if element in list2]\n",
        "\n",
        "\n",
        "list1 = [1, 2, 3, 4, 5]\n",
        "list2 = [4, 5, 6, 7, 8]\n",
        "print(find_common_elements(list1, list2))\n",
        "\n",
        "list1 = [1, 2, 3, 4, 5]\n",
        "list2 = [6, 7, 8, 9, 10]\n",
        "print(find_common_elements(list1, list2))\n"
      ]
    },
    {
      "cell_type": "markdown",
      "metadata": {
        "id": "uHkd-y5VhVWC"
      },
      "source": [
        "## Question 15\n",
        "Write a Python program to randomly divide the students in this class into maximum of eight groups for term projects, each group should have at least 4 students but no more than 6 students (including 6).\n",
        "\n",
        "Here is the students list:\n",
        "\n",
        "student_list_spring_2024=[rb0846,\n",
        "ac1964,\n",
        "hc0612,\n",
        "md0912,\n",
        "ad1198,\n",
        "md0894,\n",
        "md0825,\n",
        "vg0598,\n",
        "vg0433,\n",
        "mh1068,\n",
        "yj0173,\n",
        "pk0553,\n",
        "tk0411,\n",
        "srk0204,\n",
        "sk2922,\n",
        "sk2936,\n",
        "mk1302,\n",
        "mk1317,\n",
        "tk0412,\n",
        "vk0656,\n",
        "sm2985,\n",
        "mm2372,\n",
        "un0045,\n",
        "an0892,\n",
        "sn0913,\n",
        "gp0252,\n",
        "ap1484,\n",
        "mr1765,\n",
        "sr1385,\n",
        "sr1335,\n",
        "hs0665,\n",
        "ms2060,\n",
        "gt0217,\n",
        "nt0385,\n",
        "tv0186,\n",
        "sv1394,\n",
        "sv1752,\n",
        "sv1555,\n",
        "sy0594\n",
        "]\n"
      ]
    },
    {
      "cell_type": "code",
      "execution_count": 16,
      "metadata": {
        "id": "3iGbmcOBhTwy",
        "colab": {
          "base_uri": "https://localhost:8080/"
        },
        "outputId": "3e6d0a64-e9fe-47c6-cdf4-5261f8d7eb56"
      },
      "outputs": [
        {
          "output_type": "stream",
          "name": "stdout",
          "text": [
            "Group 1: ['vk0656', 'vg0433', 'un0045', 'mk1317', 'md0825']\n",
            "Group 2: ['sm2985', 'mk1302', 'ms2060', 'mm2372', 'sv1555', 'sr1335']\n",
            "Group 3: ['mh1068', 'gp0252', 'an0892', 'ac1964']\n",
            "Group 4: ['sv1394', 'gt0217', 'sk2936', 'hc0612', 'sk2922']\n",
            "Group 5: ['tk0412', 'sy0594', 'sv1752', 'sn0913', 'tk0411', 'md0894']\n",
            "Group 6: ['tv0186', 'yj0173', 'sr1385', 'rb0846']\n",
            "Group 7: ['nt0385', 'hs0665', 'vg0598', 'pk0553', 'md0912']\n",
            "Group 8: ['ap1484', 'srk0204', 'mr1765', 'ad1198']\n"
          ]
        }
      ],
      "source": [
        "import random\n",
        "\n",
        "student_list_spring_2024 = [\n",
        "    \"rb0846\", \"ac1964\", \"hc0612\", \"md0912\", \"ad1198\", \"md0894\", \"md0825\", \"vg0598\", \"vg0433\", \"mh1068\", \"yj0173\", \"pk0553\", \"tk0411\", \"srk0204\", \"sk2922\", \"sk2936\", \"mk1302\", \"mk1317\",\n",
        "    \"tk0412\", \"vk0656\", \"sm2985\", \"mm2372\", \"un0045\", \"an0892\", \"sn0913\", \"gp0252\", \"ap1484\", \"mr1765\", \"sr1385\", \"sr1335\", \"hs0665\", \"ms2060\", \"gt0217\", \"nt0385\", \"tv0186\", \"sv1394\", \"sv1752\", \"sv1555\", \"sy0594\"\n",
        "]\n",
        "\n",
        "\n",
        "min_group_size = 4\n",
        "max_group_size = 6\n",
        "max_groups = 8\n",
        "random.shuffle(student_list_spring_2024)\n",
        "\n",
        "groups = []\n",
        "\n",
        "\n",
        "while student_list_spring_2024:\n",
        "\n",
        "    num_students_to_assign = random.randint(min_group_size, max_group_size)\n",
        "\n",
        "    if len(student_list_spring_2024) < num_students_to_assign:\n",
        "        num_students_to_assign = len(student_list_spring_2024)\n",
        "\n",
        "\n",
        "    group = student_list_spring_2024[:num_students_to_assign]\n",
        "    groups.append(group)\n",
        "\n",
        "    student_list_spring_2024 = student_list_spring_2024[num_students_to_assign:]\n",
        "    if len(groups) == max_groups:\n",
        "        break\n",
        "for i, group in enumerate(groups):\n",
        "    print(f\"Group {i+1}: {group}\")\n"
      ]
    },
    {
      "cell_type": "markdown",
      "metadata": {
        "id": "fmZ9vX20Qs3d"
      },
      "source": [
        "## Question 16\n",
        "Create a program that takes a positive integer 'n' as input and prints the count of even numbers from 1 to 'n'. Optimize the loop using the continue statement."
      ]
    },
    {
      "cell_type": "code",
      "execution_count": 17,
      "metadata": {
        "id": "W8Jw6sWMQs3d",
        "colab": {
          "base_uri": "https://localhost:8080/"
        },
        "outputId": "051ebcc7-21c1-4c18-cbf0-07bec1c1eb86"
      },
      "outputs": [
        {
          "output_type": "stream",
          "name": "stdout",
          "text": [
            "Enter a positive integer: 12\n",
            "Count of even numbers from 1 to 12 is: 6\n"
          ]
        }
      ],
      "source": [
        "def count_even_numbers(n):\n",
        "    count = 0\n",
        "    for i in range(1, n+1):\n",
        "        if i % 2 != 0:\n",
        "            continue\n",
        "        count += 1\n",
        "    return count\n",
        "n = int(input(\"Enter a positive integer: \"))\n",
        "\n",
        "if n <= 0:\n",
        "    print(\"Please enter a positive integer.\")\n",
        "else:\n",
        "    print(\"Count of even numbers from 1 to\", n, \"is:\", count_even_numbers(n))\n"
      ]
    },
    {
      "cell_type": "markdown",
      "metadata": {
        "id": "hvq4APMhQs3d"
      },
      "source": [
        "## Question 17\n",
        "Develop a Python function called 'count_vowels' that takes a string as input and returns the count of vowels (both lowercase and uppercase) present in the string, ignoring spaces and non-alphabetic characters."
      ]
    },
    {
      "cell_type": "code",
      "execution_count": 18,
      "metadata": {
        "id": "ZnoxhSglQs3d",
        "colab": {
          "base_uri": "https://localhost:8080/"
        },
        "outputId": "11779420-671f-45d4-8caf-64c6f89493ce"
      },
      "outputs": [
        {
          "output_type": "stream",
          "name": "stdout",
          "text": [
            "Enter a string: hello world\n",
            "Count of vowels in the string: 3\n"
          ]
        }
      ],
      "source": [
        "def count_vowels(s):\n",
        "    vowels = 'aeiouAEIOU'\n",
        "    count = 0\n",
        "    for char in s:\n",
        "        if char.isalpha() and char in vowels:\n",
        "            count += 1\n",
        "    return count\n",
        "\n",
        "def main():\n",
        "\n",
        "    s = input(\"Enter a string: \")\n",
        "    count = count_vowels(s)\n",
        "\n",
        "    print(\"Count of vowels in the string:\", count)\n",
        "\n",
        "if __name__ == \"__main__\":\n",
        "    main()\n"
      ]
    },
    {
      "cell_type": "markdown",
      "source": [
        "## Question 18\n",
        "Create a custom exception named ValueTooSmallError in Python. Write a program that takes user input for an age, and if the entered age is less than 18, raise the ValueTooSmallError with an appropriate error message."
      ],
      "metadata": {
        "id": "55FWoSJPVVM6"
      }
    },
    {
      "cell_type": "code",
      "source": [
        "class ValueTooSmallError(Exception):\n",
        "    pass\n",
        "\n",
        "def get_age():\n",
        "    while True:\n",
        "        try:\n",
        "            age = int(input(\"Enter your age: \"))\n",
        "            if age < 18:\n",
        "                raise ValueTooSmallError(\"Age must be 18 or older.\")\n",
        "            return age\n",
        "        except ValueError:\n",
        "            print(\"Invalid input. Please enter a valid age.\")\n",
        "        except ValueTooSmallError as e:\n",
        "            print(e)\n",
        "\n",
        "def main():\n",
        "    age = get_age()\n",
        "    print(\"Your age is:\", age)\n",
        "\n",
        "if __name__ == \"__main__\":\n",
        "    main()\n"
      ],
      "metadata": {
        "id": "hwtr1wZmVX5A",
        "colab": {
          "base_uri": "https://localhost:8080/"
        },
        "outputId": "cc2b87fb-5e33-4df1-a39d-e80e2d07b166"
      },
      "execution_count": 19,
      "outputs": [
        {
          "output_type": "stream",
          "name": "stdout",
          "text": [
            "Enter your age: abc\n",
            "Invalid input. Please enter a valid age.\n",
            "Enter your age: 24\n",
            "Your age is: 24\n"
          ]
        }
      ]
    },
    {
      "cell_type": "markdown",
      "source": [
        "## Question 19\n",
        "Develop a script that reverses a given string without using built-in reverse functions."
      ],
      "metadata": {
        "id": "Q9ecagcaVazW"
      }
    },
    {
      "cell_type": "code",
      "source": [
        "\n",
        "def reverse_string(s):\n",
        "    reversed_s = ''\n",
        "    for char in s:\n",
        "        reversed_s = char + reversed_s\n",
        "    return reversed_s\n",
        "\n",
        "def main():\n",
        "    s = input(\"Enter a string: \")\n",
        "    reversed_s = reverse_string(s)\n",
        "    print(\"Reversed string:\", reversed_s)\n",
        "\n",
        "if __name__ == \"__main__\":\n",
        "    main()\n"
      ],
      "metadata": {
        "id": "gycgckoAVZjR",
        "colab": {
          "base_uri": "https://localhost:8080/"
        },
        "outputId": "72db72d2-fa8b-493c-a94f-9586c27ea8fb"
      },
      "execution_count": 20,
      "outputs": [
        {
          "output_type": "stream",
          "name": "stdout",
          "text": [
            "Enter a string: harsh patel\n",
            "Reversed string: letap hsrah\n"
          ]
        }
      ]
    },
    {
      "cell_type": "markdown",
      "source": [
        "## Question 20\n",
        "Implement a Python script to generate a random password of a specified length."
      ],
      "metadata": {
        "id": "ZFG6RibifMLu"
      }
    },
    {
      "cell_type": "code",
      "source": [
        "import random\n",
        "import string\n",
        "\n",
        "def generate_password(length):\n",
        "    chars = string.ascii_letters + string.digits + string.punctuation\n",
        "\n",
        "\n",
        "    password = [random.choice(string.ascii_lowercase),\n",
        "                random.choice(string.ascii_uppercase),\n",
        "                random.choice(string.digits),\n",
        "                random.choice(string.punctuation)]\n",
        "    for _ in range(length - 4):\n",
        "        password.append(random.choice(chars))\n",
        "    random.shuffle(password)\n",
        "    return ''.join(password)\n",
        "\n",
        "def main():\n",
        "    length = int(input(\"Enter the desired password length (minimum 4): \"))\n",
        "    if length < 4:\n",
        "        print(\"Password length must be at least 4.\")\n",
        "    else:\n",
        "        password = generate_password(length)\n",
        "        print(\"Generated password:\", password)\n",
        "\n",
        "if __name__ == \"__main__\":\n",
        "  main()"
      ],
      "metadata": {
        "id": "BFVrkEi9fNiD",
        "colab": {
          "base_uri": "https://localhost:8080/"
        },
        "outputId": "76dc46ee-021b-4fb8-f0fa-7a34c2a7b6c7"
      },
      "execution_count": 21,
      "outputs": [
        {
          "output_type": "stream",
          "name": "stdout",
          "text": [
            "Enter the desired password length (minimum 4): 7\n",
            "Generated password: !trzT6m\n"
          ]
        }
      ]
    },
    {
      "cell_type": "markdown",
      "source": [
        "# Try these questions"
      ],
      "metadata": {
        "id": "6SmvS7nSfbj8"
      }
    },
    {
      "cell_type": "markdown",
      "source": [
        "(21) Define a base class called 'Vehicle' with attributes make and model. Create a derived class Car that inherits from Vehicle and has an additional attribute 'num_doors'. Demonstrate an example of creating an instance of the 'Car' class and accessing its attributes."
      ],
      "metadata": {
        "id": "cboAr5pEWUf5"
      }
    },
    {
      "cell_type": "code",
      "source": [
        "class Vehicle:\n",
        "    def __init__(self, make, model):\n",
        "        self.make = make\n",
        "        self.model = model\n",
        "\n",
        "    def __str__(self):\n",
        "        return f\"{self.make} {self.model}\"\n",
        "\n",
        "class Car(Vehicle):\n",
        "    def __init__(self, make, model, num_doors):\n",
        "        super().__init__(make, model)\n",
        "        self.num_doors = num_doors\n",
        "\n",
        "    def __str__(self):\n",
        "        return f\"{super().__str__()} with {self.num_doors} doors\"\n",
        "\n",
        "my_car = Car(\"lambhorghini\", \"aventardo\", 2)\n",
        "print(\"Make:\", my_car.make)\n",
        "print(\"Model:\", my_car.model)\n",
        "print(\"Number of doors:\", my_car.num_doors)\n",
        "print(my_car)\n"
      ],
      "metadata": {
        "id": "phs9gciMWWAW",
        "colab": {
          "base_uri": "https://localhost:8080/"
        },
        "outputId": "d6fe63bd-d55b-4a1f-b993-6212dbf2c246"
      },
      "execution_count": 24,
      "outputs": [
        {
          "output_type": "stream",
          "name": "stdout",
          "text": [
            "Make: lambhorghini\n",
            "Model: aventardo\n",
            "Number of doors: 2\n",
            "lambhorghini aventardo with 2 doors\n"
          ]
        }
      ]
    },
    {
      "cell_type": "markdown",
      "source": [
        "(22) Create a class called 'Shape' with a method calculate_area(). Implement two derived classes 'Circle' and 'Rectangle' that inherit from Shape and override the calculate_area() method. Demonstrate polymorphism by creating instances of both derived classes and calling the calculate_area() method."
      ],
      "metadata": {
        "id": "J8HHefNtePwd"
      }
    },
    {
      "cell_type": "code",
      "source": [
        "import math\n",
        "\n",
        "\n",
        "class Shape:\n",
        "    def calculate_area(self):\n",
        "        pass\n",
        "class Circle(Shape):\n",
        "    def __init__(self, radius):\n",
        "        self.radius = radius\n",
        "\n",
        "    def calculate_area(self):\n",
        "        return math.pi * (self.radius ** 2)\n",
        "\n",
        "class Rectangle(Shape):\n",
        "    def __init__(self, width, height):\n",
        "        self.width = width\n",
        "        self.height = height\n",
        "\n",
        "    def calculate_area(self):\n",
        "        return self.width * self.height\n",
        "\n",
        "circle = Circle(5)\n",
        "rectangle = Rectangle(4, 6)\n",
        "\n",
        "shapes = [circle, rectangle]\n",
        "\n",
        "for shape in shapes:\n",
        "    if isinstance(shape, Circle):\n",
        "        print(f\"Circle with radius {shape.radius}:\")\n",
        "    elif isinstance(shape, Rectangle):\n",
        "        print(f\"Rectangle with width {shape.width} and height {shape.height}:\")\n",
        "    print(f\"Area: {shape.calculate_area():.2f}\")\n",
        "    print()"
      ],
      "metadata": {
        "id": "btnMmUZDeRhS",
        "colab": {
          "base_uri": "https://localhost:8080/"
        },
        "outputId": "47d5fba8-ddd9-40d5-91d4-aba2f2c588fb"
      },
      "execution_count": 25,
      "outputs": [
        {
          "output_type": "stream",
          "name": "stdout",
          "text": [
            "Circle with radius 5:\n",
            "Area: 78.54\n",
            "\n",
            "Rectangle with width 4 and height 6:\n",
            "Area: 24.00\n",
            "\n"
          ]
        }
      ]
    },
    {
      "cell_type": "markdown",
      "source": [
        "(23) Write a Python program that prompts the user to enter two numbers and perform a division operation. Handle exceptions for both zero division and invalid input (non-numeric input). Display appropriate error messages for each type of exception and ensure the program does not crash due to these errors."
      ],
      "metadata": {
        "id": "z0oqEAlTeMUS"
      }
    },
    {
      "cell_type": "code",
      "source": [
        "def divide_numbers():\n",
        "    try:\n",
        "\n",
        "        num1 = input(\"Enter the first number: \")\n",
        "        num2 = input(\"Enter the second number: \")\n",
        "\n",
        "\n",
        "        num1 = float(num1)\n",
        "        num2 = float(num2)\n",
        "\n",
        "\n",
        "        result = num1 / num2\n",
        "\n",
        "        print(f\"The result of the division is: {result:.2f}\")\n",
        "\n",
        "    except ValueError:\n",
        "        print(\"Error: Invalid input. Please enter numeric values.\")\n",
        "\n",
        "    except ZeroDivisionError:\n",
        "\n",
        "        print(\"Error: Division by zero is not allowed.\")\n",
        "\n",
        "    except Exception as e:\n",
        "\n",
        "        print(f\"An unexpected error occurred: {e}\")\n",
        "\n",
        "divide_numbers()"
      ],
      "metadata": {
        "id": "yjdc1zM1eMAs",
        "colab": {
          "base_uri": "https://localhost:8080/"
        },
        "outputId": "3c4f1ebd-1b86-4d1f-ba57-a5ebb93be0f3"
      },
      "execution_count": 26,
      "outputs": [
        {
          "output_type": "stream",
          "name": "stdout",
          "text": [
            "Enter the first number: 10\n",
            "Enter the second number: 20\n",
            "The result of the division is: 0.50\n"
          ]
        }
      ]
    },
    {
      "cell_type": "markdown",
      "source": [
        "# Mandatory Question"
      ],
      "metadata": {
        "id": "sZOhks1dXWEe"
      }
    },
    {
      "cell_type": "markdown",
      "source": [
        "**Important:**\n",
        "Reflecting on the first three lectures and the exercises you've completed, please provide feedback on your learning experience. Share your thoughts on whether the material covered was clear, the exercises were helpful, and if you feel more confident in applying Python programming concepts. Additionally, mention any specific areas where you would like more clarification or topics you would like to explore further in future lectures. Your feedback is valuable in shaping the course for an effective learning journey."
      ],
      "metadata": {
        "id": "eqmHVEwaWhbV"
      }
    },
    {
      "cell_type": "code",
      "source": [
        "I am too exicted to study with your team and your technique of study is impressive."
      ],
      "metadata": {
        "id": "akAVJn9YBTQT"
      },
      "execution_count": null,
      "outputs": []
    }
  ],
  "metadata": {
    "colab": {
      "provenance": [],
      "collapsed_sections": [
        "6SmvS7nSfbj8",
        "sZOhks1dXWEe"
      ],
      "toc_visible": true,
      "include_colab_link": true
    },
    "kernelspec": {
      "display_name": "Python 3 (ipykernel)",
      "language": "python",
      "name": "python3"
    },
    "language_info": {
      "codemirror_mode": {
        "name": "ipython",
        "version": 3
      },
      "file_extension": ".py",
      "mimetype": "text/x-python",
      "name": "python",
      "nbconvert_exporter": "python",
      "pygments_lexer": "ipython3",
      "version": "3.9.12"
    }
  },
  "nbformat": 4,
  "nbformat_minor": 0
}