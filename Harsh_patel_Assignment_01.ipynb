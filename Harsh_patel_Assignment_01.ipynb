{
  "cells": [
    {
      "cell_type": "markdown",
      "metadata": {
        "id": "view-in-github",
        "colab_type": "text"
      },
      "source": [
        "<a href=\"https://colab.research.google.com/github/Harsh0487/Harsh_INFO5731_fall2024/blob/main/Harsh_patel_Assignment_01.ipynb\" target=\"_parent\"><img src=\"https://colab.research.google.com/assets/colab-badge.svg\" alt=\"Open In Colab\"/></a>"
      ]
    },
    {
      "cell_type": "markdown",
      "metadata": {
        "id": "Ryk8D1Q4Wsrp"
      },
      "source": [
        "# **INFO5731 Assignment One**"
      ]
    },
    {
      "cell_type": "markdown",
      "metadata": {
        "id": "qcP6re2g5A5r"
      },
      "source": [
        "This assignment includes range of programming tasks and data analysis exercises, aiming to enhance your Python skills and proficiency in string manipulation, numerical computations, and data science. Follow the instructions carefully and design well-structured Python programs to address each question.\n",
        "\n",
        "Late Submission will have a penalty of 10% reduction for each day after the deadline."
      ]
    },
    {
      "cell_type": "markdown",
      "metadata": {
        "id": "JkzR8cFAyGik"
      },
      "source": [
        "# Question 1 (10 points).\n",
        "\n",
        "The formula that describes the volume V of a hemisphere with radius r is the following:\n",
        "\n",
        "$ V=\\frac{2}{3}\\ast\\ \\pi\\ast\\ r^3 $\n",
        "\n",
        "Write a program to calculate the value of V when r is in the range of even numbers from 1-20. Output the result in the following format:\n",
        "\n",
        "\tr\tV\n",
        "\t2\t…\n",
        "\t4\t…\n",
        "\t6\t…\n",
        "\t.\n",
        "\t.\n",
        "\t.\n",
        "\t20\t…\n"
      ]
    },
    {
      "cell_type": "code",
      "execution_count": null,
      "metadata": {
        "colab": {
          "base_uri": "https://localhost:8080/"
        },
        "collapsed": true,
        "id": "jDyTKYs-yGit",
        "outputId": "353baf87-9d71-47c3-9167-88cf6f8b6233"
      },
      "outputs": [
        {
          "name": "stdout",
          "output_type": "stream",
          "text": [
            "r\tv\n",
            "2 16.72992\n",
            "4 133.83936\n",
            "6 451.70784\n",
            "8 1070.71488\n",
            "10 2091.24\n"
          ]
        }
      ],
      "source": [
        "# Your code here\n",
        "i=1\n",
        "print(\"r\\tv\")\n",
        "while i<=10:\n",
        "    if i%2==0:\n",
        "\n",
        "        v=0.666*3.14*i*i*i\n",
        "        print(i,v)\n",
        "    i=i+1\n",
        "\n"
      ]
    },
    {
      "cell_type": "markdown",
      "metadata": {
        "id": "90_NR8c5XGWc"
      },
      "source": [
        "# Question 2 (20 points)\n",
        "\n",
        "(a) Write a Python program to generate a sequence of 12 random numbers falling within the range of 50 to 150.\n",
        "\n",
        "(b) Arrange the generated numbers in ascending order. Display the sorted list.\n",
        "\n",
        "(c) Extend the program to arrange the numbers in descending order as well. Present the sorted list accordingly.\n",
        "\n",
        "(d) Compute and output the average of the entire group of generated numbers.\n",
        "\n",
        "(e) Enhance the program to calculate and display the average of the first 6 numbers from both the ascending and descending sorted lists."
      ]
    },
    {
      "cell_type": "code",
      "execution_count": null,
      "metadata": {
        "colab": {
          "base_uri": "https://localhost:8080/"
        },
        "collapsed": true,
        "id": "a70eQURsVAGJ",
        "outputId": "ef1cd546-8b6b-4317-be32-0259ab99a745"
      },
      "outputs": [
        {
          "name": "stdout",
          "output_type": "stream",
          "text": [
            "create series of random numbers:\n",
            "[116, 145, 54, 79, 127, 72, 102, 52, 66, 71, 123, 148]\n",
            "Sorted in ascending:\n",
            "[52, 54, 66, 71, 72, 79, 102, 116, 123, 127, 145, 148]\n",
            "Sorted in descending:\n",
            "[148, 145, 127, 123, 116, 102, 79, 72, 71, 66, 54, 52]\n",
            "Average of the created numbers: 96.25\n",
            "Sorted series of random numbers in ascending order:\n",
            "[148, 145, 127, 123, 116, 102, 79, 72, 71, 66, 54, 52]\n",
            "Average of the first 6 numbers (ascending): 126.83\n",
            "Sorted series of random numbers in descending order:\n",
            "[148, 145, 127, 123, 116, 102, 79, 72, 71, 66, 54, 52]\n",
            "Average of the first 6 numbers (descending): 126.83\n"
          ]
        }
      ],
      "source": [
        "import random\n",
        "\n",
        "#a\n",
        "low = 50\n",
        "high = 150\n",
        "num = 12\n",
        "\n",
        "\n",
        "random_numbers = [random.randrange(low, high) for _ in range(num)]\n",
        "\n",
        "print(\"create series of random numbers:\")\n",
        "print(random_numbers)\n",
        "\n",
        "#b\n",
        "random_numbers.sort()\n",
        "print(\"Sorted in ascending:\")\n",
        "print(random_numbers)\n",
        "\n",
        "#c\n",
        "random_numbers.sort(reverse=True)\n",
        "print(\"Sorted in descending:\")\n",
        "print(random_numbers)\n",
        "\n",
        "#d\n",
        "common = sum(random_numbers) / len(random_numbers)\n",
        "print(f\"Average of the created numbers: {common:.2f}\")\n",
        "\n",
        "#e\n",
        "average_ascending = sum(random_numbers[:6]) / 6\n",
        "average_descending = sum(random_numbers[:6]) / 6\n",
        "\n",
        "# Print results\n",
        "print(\"Sorted series of random numbers in ascending order:\")\n",
        "print(random_numbers)\n",
        "print(f\"Average of the first 6 numbers (ascending): {average_ascending:.2f}\")\n",
        "\n",
        "print(\"Sorted series of random numbers in descending order:\")\n",
        "print(random_numbers)\n",
        "print(f\"Average of the first 6 numbers (descending): {average_descending:.2f}\")\n",
        "\n",
        "\n",
        "\n"
      ]
    },
    {
      "cell_type": "markdown",
      "metadata": {
        "id": "1F_PZdH9Sh49"
      },
      "source": [
        "# Question 3 (20 points).\n",
        "\n",
        "Create a Python program that encompasses various string manipulation task:\n",
        "\n",
        "(a) Prompt the user to input two sentences.\n",
        "\n",
        "(b) Transform each sentence into a list, where each element corresponds to a word in the sentence. For example, if the sentences are \"Hello, how are you doing today?\" and \"This is an example sentence for the program!\"\n",
        "\n",
        "The program should output:\n",
        "['Hello', ',', 'how', 'are', 'you', 'doing', 'today', '?', 'This', 'is', 'an', 'example', 'sentence', 'for', 'the', 'program', '!']\n",
        "\n",
        "(c) Compare the two sentences. Print out a list of words that occur in both sentences.\n",
        "\n",
        "(d) Remove any punctuation from the sentence and print the sanitized sentences. It should remove at least the following characters, but it can remove more: period(“.”), comma (“,”), semicolon (“;”), and colon (“:”).\n",
        "\n",
        "(e) Count the number of vowels in each of the sentences. Print out each vowel and the occurrences  in the each of the two sentences separately, such as:\n",
        "\n",
        "Sentence1: a:2, e:2, i:0, etc.\n",
        "Sentence2: a:1, e:2, i:2, etc.\n",
        "\n",
        "Design a well-structured Python program to execute these tasks efficiently."
      ]
    },
    {
      "cell_type": "code",
      "execution_count": null,
      "metadata": {
        "colab": {
          "base_uri": "https://localhost:8080/"
        },
        "collapsed": true,
        "id": "Y0oOSlsOS0cq",
        "outputId": "2f0d64b7-7e88-4d09-d875-48d6a5d80f06"
      },
      "outputs": [
        {
          "name": "stdout",
          "output_type": "stream",
          "text": [
            "Enter the list 1: hellow world\n",
            "Enter the list 2 : whats new?\n",
            "['hellow', 'world']\n",
            "['whats', 'new?']\n",
            "Not Equal\n",
            "['hellow', 'world']\n",
            "['whats']\n",
            "a= 1\n",
            "e= 4\n",
            "i= 0\n",
            "o= 0\n",
            "u= 0\n"
          ]
        }
      ],
      "source": [
        "#a\n",
        "lst1 = [str(item) for item in input(\"Enter the list 1: \").split()]\n",
        "\n",
        "lst2 = [item for item in input(\"Enter the list 2 : \").split()]\n",
        "\n",
        "print(lst1)\n",
        "print(lst2)\n",
        "#b\n",
        "a = set(lst1)\n",
        "b = set(lst2)\n",
        "\n",
        "if a==b:\n",
        "    print(\"Equal\")\n",
        "else:\n",
        "    print(\"Not Equal\")\n",
        "#c\n",
        "newlst1=[]\n",
        "for i in lst1:\n",
        "    if i.isalnum():\n",
        "        newlst1.append(i)\n",
        "print(newlst1)\n",
        "\n",
        "newlst2=[]\n",
        "for i in lst2:\n",
        "    if i.isalnum():\n",
        "        newlst2.append(i)\n",
        "print(newlst2)\n",
        "\n",
        "#e\n",
        "vowels = 'aeiou'\n",
        "counta=0\n",
        "counte=0\n",
        "counti=0\n",
        "counto=0\n",
        "countu=0\n",
        "for ch in lst1:\n",
        "\n",
        "    for char in ch.lower():\n",
        "        if char=='a':\n",
        "            counta += 1\n",
        "        if char=='e':\n",
        "            counte +=1\n",
        "        if char=='i':\n",
        "            counti += 1\n",
        "        if char=='o':\n",
        "            counte +=1\n",
        "        if char=='u':\n",
        "            countu +=1\n",
        "\n",
        "#count=0\n",
        "for ch in lst2:\n",
        "\n",
        "    for char in ch.lower():\n",
        "        if char=='a':\n",
        "            counta += 1\n",
        "        if char=='e':\n",
        "            counte +=1\n",
        "        if char=='i':\n",
        "            counti += 1\n",
        "        if char=='o':\n",
        "            counte +=1\n",
        "        if char=='u':\n",
        "            countu +=1\n",
        "print(\"a=\",counta)\n",
        "print(\"e=\",counte)\n",
        "print(\"i=\",counti)\n",
        "print(\"o=\",counto)\n",
        "print(\"u=\",countu)"
      ]
    },
    {
      "cell_type": "markdown",
      "metadata": {
        "id": "OP4-5qxAtInv"
      },
      "source": [
        "# Question 4 (20 Points)"
      ]
    },
    {
      "cell_type": "markdown",
      "metadata": {
        "id": "uzN4_hDptK9U"
      },
      "source": [
        "Design and implement a simple command-line calculator program. The program should handle both integers and floating-point numbers.\n",
        "\n",
        "(a) Write program that takes a mathematical expression as input and evaluates it. The program should support addition, subtraction, multiplication, and division.\n",
        "\n",
        "(b) Extend the calculator to handle parentheses in mathematical expressions. Implement the necessary logic to evaluate expressions with nested parentheses.\n",
        "\n",
        "(c) Enhance your calculator to include additional mathematical operations such as exponentiation, square root, and modulus.\n",
        "\n",
        "(d) Implement error handling in the calculator program. Handle cases such as division by zero and invalid input expressions. Provide meaningful error messages.\n",
        "\n",
        "(e) Implement a command to exit the calculator."
      ]
    },
    {
      "cell_type": "code",
      "execution_count": null,
      "metadata": {
        "colab": {
          "base_uri": "https://localhost:8080/"
        },
        "id": "8nQnVxjJuYtu",
        "collapsed": true,
        "outputId": "87d76277-1274-44b9-bf8c-39dd385d2434"
      },
      "outputs": [
        {
          "name": "stdout",
          "output_type": "stream",
          "text": [
            "Calculator Value> 111+222\n",
            "Result:  333\n",
            "Calculator Value> 2314-234\n",
            "Result:  2080\n",
            "Calculator Value> 2345÷0\n"
          ]
        }
      ],
      "source": [
        "import re\n",
        "import math\n",
        "\n",
        "def cal(expression):\n",
        "\n",
        "        result = eval(expression)\n",
        "        return result\n",
        "\n",
        "\n",
        "def calculator():\n",
        "    while True:\n",
        "\n",
        "        user_input = input(\"Calculator Value> \")\n",
        "\n",
        "\n",
        "        if user_input.lower() == \"exit\":\n",
        "            print(\"Invalid Input\")\n",
        "            break\n",
        "\n",
        "\n",
        "        if not re.match(\"^[0-9+*/(). -]+$\", user_input):\n",
        "            print(\"Invalid Input \")\n",
        "            continue\n",
        "\n",
        "        res = cal(user_input)\n",
        "        print(\"Result: \", res)\n",
        "\n",
        "\n",
        "calculator()"
      ]
    },
    {
      "cell_type": "markdown",
      "metadata": {
        "id": "z3tBE7E-Xn5X"
      },
      "source": [
        "# Question 5 (30 points).\n",
        "\n",
        "In the field of Data Science, data is often formatted as a comma-delimited (CSV) file, where each line in a file corresponds to a field's value. Refer to Chapter 9 (p. 106) for more information on comma-delimited files.\n",
        "\n",
        "To answer this question, you will need to download the file [Assignment1_denton_housing.csv](https://raw.githubusercontent.com/unt-iialab/info5731-spring2022/main/assignments/Assignment1_denton_housing.csv) included with this assignment. The file contains statistics about housing in the city of Denton from 2008 to 2014. Write a program to implement the following questions.\n",
        "\n",
        "(a) (5 pts) Calculate the difference in the number of Occupied Housing Units from year to year and print it. The difference must be calculated for the consecutive years such as 2008-2009, 2009-2010 etc. Finally, print the values in the ascending order.\n",
        "\n",
        "(b) (5 pts) For all the years, calculate the percentage of housing units which are vacant an occupied. Print the results in the following format:\n",
        "\n",
        "Year Vacant Housing Units Occupied Housing Units\n",
        "\n",
        "    2008  30%   70%                          \n",
        "\t2009 ----- -----\n",
        "\t2010 ----- -----\n",
        "    2011 ----- -----\n",
        "\t2012 ----- -----\n",
        "    2013 ----- -----\n",
        "\t2014 ----- -----\n",
        "  \n",
        "  \n",
        "\n",
        "(c) (10 pts) Calculate and print the valued and years in which the highest number of housing units were vacant and occupied. Print the results in the following format:  \n",
        "\n",
        "                              Year\tValue\n",
        "\tVacant Housing Units\t  -----   -----\n",
        "\tOccupied Housing Units\t-----   -----\n",
        "\n",
        "(d) (10 pts) Calculate the harmonic mean of the total housing units and print it out. You can find the information about harmonic mean here: https://ncalculators.com/statistics/harmonic-mean-calculator.htm"
      ]
    },
    {
      "cell_type": "code",
      "source": [
        "import pandas as pd\n",
        "from scipy.stats import hmean\n",
        "\n",
        "# Load the data from CSV\n",
        "file_name = 'Assignment1_denton_housing.csv'\n",
        "df = pd.read_csv(file_name)\n",
        "\n",
        "# (a) Calculate the difference in the number of Occupied Housing Units from year to year\n",
        "df_occupied = df[df['title_field'] == 'Occupied Housing Units']\n",
        "df_occupied_sorted = df_occupied.sort_values(by='year')\n",
        "\n",
        "yearly_diff = df_occupied_sorted['value'].diff().dropna()\n",
        "yearly_diff_sorted = yearly_diff.sort_values()\n",
        "\n",
        "print(\"\\n(a) Difference in Occupied Housing Units (sorted in ascending order):\")\n",
        "for i in range(len(yearly_diff_sorted)):\n",
        "    print(f\"{df_occupied_sorted.iloc[i+1]['year']}: {yearly_diff_sorted.iloc[i]}\")\n",
        "\n",
        "# (b) Calculate the percentage of housing units that are vacant and occupied for each year\n",
        "print(\"\\n(b) Percentage of vacant and occupied housing units:\")\n",
        "\n",
        "for year in df['year'].unique():\n",
        "    total_units = df[df['year'] == year]['value'].sum()\n",
        "    vacant_units = df[(df['year'] == year) & (df['title_field'] == 'Vacant Housing Units')]['value'].values[0]\n",
        "    occupied_units = df[(df['year'] == year) & (df['title_field'] == 'Occupied Housing Units')]['value'].values[0]\n",
        "\n",
        "    vacant_percent = (vacant_units / total_units) * 100\n",
        "    occupied_percent = (occupied_units / total_units) * 100\n",
        "\n",
        "    print(f\"{year} {vacant_percent:.2f}% {occupied_percent:.2f}%\")\n",
        "\n",
        "# (c) Find the year and value for the highest number of vacant and occupied housing units\n",
        "max_vacant = df[df['title_field'] == 'Vacant Housing Units'].sort_values(by='value', ascending=False).iloc[0]\n",
        "max_occupied = df[df['title_field'] == 'Occupied Housing Units'].sort_values(by='value', ascending=False).iloc[0]\n",
        "\n",
        "print(\"\\n(c) Year and value of highest number of housing units:\")\n",
        "print(f\"Vacant Housing Units      {max_vacant['year']}   {max_vacant['value']}\")\n",
        "print(f\"Occupied Housing Units    {max_occupied['year']}   {max_occupied['value']}\")\n",
        "\n",
        "# (d) Calculate the harmonic mean of the total housing units for all years\n",
        "total_units_per_year = df.groupby('year')['value'].sum()\n",
        "harmonic_mean_value = hmean(total_units_per_year)\n",
        "\n",
        "print(f\"\\n(d) Harmonic mean of total housing units: {harmonic_mean_value:.2f}\")"
      ],
      "metadata": {
        "colab": {
          "base_uri": "https://localhost:8080/"
        },
        "collapsed": true,
        "id": "GdSGqE2qwuhk",
        "outputId": "2a7cdc82-2837-4f31-90df-60cd60acb0d5"
      },
      "execution_count": 48,
      "outputs": [
        {
          "output_type": "stream",
          "name": "stdout",
          "text": [
            "\n",
            "(a) Difference in Occupied Housing Units (sorted in ascending order):\n",
            "2009: -795.0\n",
            "2010: -303.0\n",
            "2011: 1404.0\n",
            "2012: 1565.0\n",
            "2013: 2622.0\n",
            "2014: 5091.0\n",
            "\n",
            "(b) Percentage of vacant and occupied housing units:\n",
            "2014 1.94% 31.84%\n",
            "2013 3.00% 31.12%\n",
            "2012 2.26% 31.61%\n",
            "2011 3.21% 30.99%\n",
            "2010 2.77% 31.29%\n",
            "2009 3.10% 31.05%\n",
            "2008 3.74% 30.63%\n",
            "\n",
            "(c) Year and value of highest number of housing units:\n",
            "Vacant Housing Units      2008   4483\n",
            "Occupied Housing Units    2014   46295\n",
            "\n",
            "(d) Harmonic mean of total housing units: 130257.98\n"
          ]
        }
      ]
    },
    {
      "cell_type": "markdown",
      "metadata": {
        "id": "q8BFCvWp32cf"
      },
      "source": [
        "# Mandatory Question\n",
        "\n",
        "Provide your thoughts on the assignment. What did you find challenging, and what aspects did you enjoy? Your opinion on the provided time to complete the assignment. Share any suggestions for improvement. Your feedback will be valuable for enhancing the learning experience."
      ]
    },
    {
      "cell_type": "code",
      "execution_count": null,
      "metadata": {
        "id": "_e557s2w4BpK"
      },
      "outputs": [],
      "source": [
        "Assignment is good for increasing skill and its challenging but its also good for gaining experience.The assignment time is perfect to complete it."
      ]
    }
  ],
  "metadata": {
    "colab": {
      "provenance": [],
      "include_colab_link": true
    },
    "kernelspec": {
      "display_name": "Python 3 (ipykernel)",
      "language": "python",
      "name": "python3"
    },
    "language_info": {
      "codemirror_mode": {
        "name": "ipython",
        "version": 3
      },
      "file_extension": ".py",
      "mimetype": "text/x-python",
      "name": "python",
      "nbconvert_exporter": "python",
      "pygments_lexer": "ipython3",
      "version": "3.9.12"
    }
  },
  "nbformat": 4,
  "nbformat_minor": 0
}